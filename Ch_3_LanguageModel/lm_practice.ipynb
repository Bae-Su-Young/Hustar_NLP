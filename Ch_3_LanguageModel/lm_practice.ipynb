{
 "cells": [
  {
   "cell_type": "code",
   "execution_count": 53,
   "metadata": {},
   "outputs": [],
   "source": [
    "import torch.nn as nn\n",
    "import torch\n",
    "import torch.nn.utils.rnn as rnn\n",
    "import statistics\n",
    "import nltk # 없으시면 설치하세요: pip install nltk\n",
    "import random\n",
    "import collections\n",
    "import time"
   ]
  },
  {
   "cell_type": "code",
   "execution_count": 54,
   "metadata": {},
   "outputs": [],
   "source": [
    "device = torch.device('cuda' if torch.cuda.is_available() else 'cpu')"
   ]
  },
  {
   "cell_type": "code",
   "execution_count": 55,
   "metadata": {},
   "outputs": [],
   "source": [
    "## Dictionary class 선언\n",
    "class Dictionary(object):\n",
    "    def __init__(self, dataset, size):\n",
    "        ## init vocab ##\n",
    "        ##<StartOfSentence>\n",
    "        \n",
    "        self.word2idx = {'<pad>':0, '<sos>': 1, '<eos>': 2, '<unk>': 3} # 사전 : 사전에 등록되지 않은 단어는 다 unk\n",
    "        self.idx2word = ['<pad>', '<sos>', '<eos>', '<unk>'] # inverted dictionary 역사전 인덱스를 주면 단어가 나옴\n",
    "        # self.word2idx['<unk>'] --> 3\n",
    "        # self.idx2word[3] = '<unk>'\n",
    "        \n",
    "        self.build_dict(dataset, size)\n",
    "    \n",
    "    def __call__(self, word):\n",
    "        return self.word2idx.get(word, self.word2idx['<unk>']) # if word does not exist in vocab then return unk idx\n",
    "\n",
    "    def add_word(self, word):\n",
    "        if word not in self.word2idx:\n",
    "            self.idx2word.append(word)\n",
    "            self.word2idx[word] = len(self.idx2word) - 1\n",
    "        return self.word2idx[word]\n",
    "\n",
    "    def build_dict(self, dataset, dict_size):\n",
    "        ## Practice ##\n",
    "        \"\"\"Tokenize a text file.\"\"\"\n",
    "        total_words = (word for sent in dataset for word in sent) # store all words into tuple\n",
    "        word_freq = collections.Counter(total_words)# count the number of each word: ex) ('The': 10000, 'a': 5555, ...)\n",
    "                                                        #정렬 조건 (횟수,순서)\n",
    "        vocab = sorted(word_freq.keys(), key=lambda word: (word_freq[word], word), reverse=True) # sort by frequency 내림차순 별로 않나온 것은 학습 제외\n",
    "        vocab = vocab[:dict_size] # truncate 사전 크기로 자름\n",
    "        \n",
    "        for word in vocab:\n",
    "            self.add_word(word)\n",
    "\n",
    "    def __len__(self):\n",
    "        return len(self.idx2word)\n"
   ]
  },
  {
   "cell_type": "code",
   "execution_count": 56,
   "metadata": {},
   "outputs": [],
   "source": [
    "## Brown dataset Preprocessing (NLTK)\n",
    "def brown_dataset(min=5, max=30):\n",
    "    nltk.download('brown')\n",
    "\n",
    "    # get sentences with the length between min and max\n",
    "    # convert all words into lower-case\n",
    "    # Preprocessing : 다 소문자로 처리, 리스트\n",
    "    all_seq = [[token.lower() for token in seq] for seq in nltk.corpus.brown.sents() \n",
    "               if min <= len(seq) <= max]\n",
    "\n",
    "    random.shuffle(all_seq) # shuffle\n",
    "    return all_seq"
   ]
  },
  {
   "cell_type": "code",
   "execution_count": 57,
   "metadata": {},
   "outputs": [
    {
     "name": "stderr",
     "output_type": "stream",
     "text": [
      "[nltk_data] Downloading package brown to /home/piai/nltk_data...\n",
      "[nltk_data]   Package brown is already up-to-date!\n"
     ]
    },
    {
     "name": "stdout",
     "output_type": "stream",
     "text": [
      "43450\n",
      "['by', 'god', ',', \"they're\", 'a-coming', ',', 'they', 'are', \"''\", '!', '!']\n",
      "['plans', 'are', 'on', 'pages', '22', 'and', '23', '.']\n",
      "['just', 'one', 'or', 'two', 'swallows', ',', 'he', 'told', 'himself', ',', 'enough', 'to', 'lessen', 'some', 'of', 'the', 'pain', '.']\n"
     ]
    }
   ],
   "source": [
    "## Download Brown dataset\n",
    "dataset = brown_dataset()\n",
    "print(len(dataset))\n",
    "## print some part\n",
    "print(dataset[0])\n",
    "print(dataset[1])\n",
    "print(dataset[2])"
   ]
  },
  {
   "cell_type": "code",
   "execution_count": 58,
   "metadata": {},
   "outputs": [],
   "source": [
    "#입력으 배치사이즈 만큼자르고\n",
    "#패딩, 심볼 추가\n",
    "#이런걸 다 해주는게 Corpus\n",
    "\n",
    "## Data handler class 선언\n",
    "class Corpus(object):\n",
    "    def __init__(self, dataset, device, dict_size=20000, train_ratio=0.97):\n",
    "        train_size = int(len(dataset) * train_ratio) \n",
    "        self.device = device\n",
    "        self.dictionary = Dictionary(dataset, dict_size)#######################Corpus낸 Dict\n",
    "        self.train = dataset[:train_size] # [0 ~ train_size] 학습데이터\n",
    "        self.valid = dataset[train_size:] # [train_size: len(dataset)] #테스트데이터\n",
    "\n",
    "    def indexing(self, dat): #하나 이상의 문장이 input으로 들어왔을 때, 심볼 넣어는 것. \n",
    "        # dat = list(list) //[[],[]] 배치사이즈별로 리스트 내 리스트 형식으로 구성\n",
    "        src_idxes = [] # 모델 입력\n",
    "        tgt_idxes = [] # 모델 정답\n",
    "        for sent in dat:\n",
    "            #Add <sos>\n",
    "            src_idx = [self.dictionary('<sos>')] + [self.dictionary(word) for word in sent] #<sos>의 인덱스가 반환됨\n",
    "            \n",
    "            #Add <eos>\n",
    "            tgt_idx = [self.dictionary(word) for word in sent] + [self.dictionary('<eos>')] \n",
    "            \n",
    "            #Batch를 위해\n",
    "            src_idxes.append(torch.tensor(src_idx).type(torch.int64))\n",
    "            tgt_idxes.append(torch.tensor(tgt_idx).type(torch.int64))\n",
    "    \n",
    "        \n",
    "        # shape = [B, L]\n",
    "        #Add <apd>\n",
    "        src_idxes = rnn.pad_sequence(src_idxes, batch_first=True).to(self.device) #nn라이브러리 자도 패딩\n",
    "        \n",
    "        # flatten shape = [B * L]\n",
    "        tgt_idxes = rnn.pad_sequence(tgt_idxes, batch_first=True).to(self.device).view(-1) #target을 flatten [batch *length]\n",
    "\n",
    "        return src_idxes, tgt_idxes\n",
    "\n",
    "    def batch_iter(self, batch_size, isTrain=True):#배치사이즈에 받게 이차원 텐서로 쪼갠다음 인덱싱을 해줌\n",
    "        dat = self.train if isTrain else self.valid\n",
    "        if isTrain:\n",
    "            random.shuffle(dat)\n",
    "\n",
    "        for i in range(len(dat) // batch_size): #BATCH크기 만큼 자름\n",
    "            batch = dat[i * batch_size: (i+1) * batch_size]\n",
    "            src, tgt = self.indexing(batch)#인덱싱에 넣음\n",
    "            yield {'src': src, 'tgt': tgt} #-> 인덱스 형태의 텐서가 반환됨"
   ]
  },
  {
   "cell_type": "code",
   "execution_count": 59,
   "metadata": {},
   "outputs": [],
   "source": [
    "corpus = Corpus(dataset, device)"
   ]
  },
  {
   "cell_type": "code",
   "execution_count": 76,
   "metadata": {},
   "outputs": [
    {
     "name": "stdout",
     "output_type": "stream",
     "text": [
      "word:  <pad>      | index:     0 \n",
      "word:  <sos>      | index:     1 \n",
      "word:  <eos>      | index:     2 \n",
      "word:  <unk>      | index:     3 \n",
      "word:  the        | index:     4 \n",
      "word:  .          | index:     5 \n",
      "word:  ,          | index:     6 \n",
      "word:  of         | index:     7 \n",
      "word:  and        | index:     8 \n",
      "word:  to         | index:     9 \n",
      "word:  a          | index:    10 \n",
      "word:  in         | index:    11 \n",
      "word:  was        | index:    12 \n",
      "word:  he         | index:    13 \n",
      "word:  is         | index:    14 \n",
      "word:  ''         | index:    15 \n",
      "word:  ``         | index:    16 \n",
      "word:  it         | index:    17 \n",
      "word:  that       | index:    18 \n",
      "word:  for        | index:    19 \n",
      "word:  ;          | index:    20 \n"
     ]
    }
   ],
   "source": [
    "# Dictionary 확인\n",
    "for i, (key, val) in enumerate(corpus.dictionary.word2idx.items()):\n",
    "    print('word:  {:10s} | index: {:5d} '.format(key, val))\n",
    "    if i == 20:\n",
    "        break"
   ]
  },
  {
   "cell_type": "markdown",
   "metadata": {},
   "source": [
    "### ㄴ관사, 조사가 빈번하게 나옴"
   ]
  },
  {
   "cell_type": "code",
   "execution_count": 61,
   "metadata": {},
   "outputs": [
    {
     "name": "stdout",
     "output_type": "stream",
     "text": [
      "[['plans', 'are', 'on', 'pages', '22', 'and', '23', '.']]\n",
      "tensor([[   1,  989,   31,   24, 3750, 2635,    8, 2735,    5]],\n",
      "       device='cuda:0')\n",
      "tensor([ 989,   31,   24, 3750, 2635,    8, 2735,    5,    2], device='cuda:0')\n",
      "------------------------------------------------------------------------------------------\n",
      "[['by', 'god', ',', \"they're\", 'a-coming', ',', 'they', 'are', \"''\", '!', '!'], ['plans', 'are', 'on', 'pages', '22', 'and', '23', '.']]\n",
      "tensor([[   1,   33,  282,    6, 1248,    3,    6,   38,   31,   15,   62,   62],\n",
      "        [   1,  989,   31,   24, 3750, 2635,    8, 2735,    5,    0,    0,    0]],\n",
      "       device='cuda:0')\n",
      "tensor([  33,  282,    6, 1248,    3,    6,   38,   31,   15,   62,   62,    2,\n",
      "         989,   31,   24, 3750, 2635,    8, 2735,    5,    2,    0,    0,    0],\n",
      "       device='cuda:0')\n"
     ]
    }
   ],
   "source": [
    "## indexing 함수 결과 확인\n",
    "\n",
    "# case : 단일 문장 입력 시. \n",
    "sent = [dataset[1]]#리스트 안에 리스트로 입력\n",
    "idx_src, idx_tgt = corpus.indexing(sent)\n",
    "\n",
    "\n",
    "print(sent)\n",
    "print(idx_src) # <SOS> index로 시작\n",
    "print(idx_tgt) # <EOS> index로 종료\n",
    "\n",
    "print('-' * 90)\n",
    "## case : 복수 문장 입력 시 (batching)\n",
    "batch = [dataset[0], dataset[1]]\n",
    "idx_src, idx_tgt = corpus.indexing(batch)\n",
    "\n",
    "print(batch)\n",
    "print(idx_src) # 가장 길이가 긴 문장 (dataset[0]) 보다 짧은 문장 (dataset[1]) 의 경우 남는 길이만큼 padding=0 삽입 확인.\n",
    "print(idx_tgt)\n",
    "\n",
    "#결과가 shift되서 그대로 오고 끝에 <eos>붙어서 나타남"
   ]
  },
  {
   "cell_type": "markdown",
   "metadata": {},
   "source": [
    "### ㄴtarget은 flatten이 됬기떄문에 연속해서 하나의 리스트로 출력됨"
   ]
  },
  {
   "cell_type": "markdown",
   "metadata": {},
   "source": [
    "# RNN Model\n",
    "![모델구조](fig/LM_model.png)"
   ]
  },
  {
   "cell_type": "code",
   "execution_count": 62,
   "metadata": {},
   "outputs": [],
   "source": [
    "## RNN Language model 선언\n",
    "\n",
    "# Define network\n",
    "class RNNModel(nn.Module):\n",
    "    #학습할 레이어, 파라메터 정의\n",
    "    def __init__(self, ntoken, hidden_size, nlayers, dropout=0.1):\n",
    "        super(RNNModel, self).__init__()\n",
    "        self.drop = nn.Dropout(dropout)\n",
    "        self.embeddings = nn.Embedding(ntoken, hidden_size) # Practice // 벡터와 바꿔주는 (행:단어의 갯수, 열:dimension)\n",
    "        self.rnn = nn.LSTM(hidden_size, hidden_size, nlayers, dropout=dropout, batch_first=True) # Practice [batch, batch_first]\n",
    "        #input_size: word vector가 입력으로 들어감 그러므로 input size가 hidden size\n",
    "        \n",
    "        \n",
    "        self.output_layer = nn.Linear(hidden_size, ntoken) # Practice  // 사전의 크기로 사이즈 조절\n",
    "        self.sm = nn.LogSoftmax(dim=-1) # log확률값\n",
    "\n",
    "        self.ntoken = ntoken #사전의 사이즈\n",
    "        self.hidden_size = hidden_size \n",
    "        self.nlayers = nlayers\n",
    "\n",
    "        self.init_weights()\n",
    "\n",
    "    def init_weights(self):\n",
    "        initrange = 0.1\n",
    "        self.embeddings.weight.data.uniform_(-initrange, initrange)\n",
    "        self.output_layer.weight.data.uniform_(-initrange, initrange)\n",
    "        self.output_layer.bias.data.zero_()\n",
    "    \n",
    "    # init에 정의한 param가지고 실제 network의 연산이 정의된 부분\n",
    "    def forward(self, input, hidden):\n",
    "        # shape(input) = [Batch, length]\n",
    "        emb = self.embeddings(input) # input -> embedding = (batch, length, dim)\n",
    "        output, hidden = self.rnn(emb) # output = (batch. length. dim)\n",
    "        output = self.drop(output) #dropout\n",
    "        output = self.output_layer(output)# linear projection : hidden dim --> vocab size\n",
    "        output = output.view(-1,self.ntoken)# output = (batch * length, vocab_size)\n",
    "        output = self.sm(output)# softmax\n",
    "\n",
    "        return output, hidden\n",
    "\n",
    "    def init_hidden(self, bsz): #zoro 벡터를 만들기 위함.....?\n",
    "        weight = next(self.parameters()) # to set init tensor with the same torch.dtype and torch.device\n",
    "        return (weight.new_zeros(self.nlayers, bsz, self.hidden_size),\n",
    "                weight.new_zeros(self.nlayers, bsz, self.hidden_size))\n"
   ]
  },
  {
   "cell_type": "code",
   "execution_count": 63,
   "metadata": {},
   "outputs": [],
   "source": [
    "# Hyperparameters\n",
    "batch_size = 60\n",
    "hidden_size = 256 #embd 사이즈\n",
    "dropout = 0.2\n",
    "max_epoch = 30\n",
    "\n",
    "# build model\n",
    "ntokens = len(corpus.dictionary)\n",
    "model = RNNModel(ntokens, hidden_size, 1, dropout).to(device)\n",
    "\n",
    "#isTrain=True # Flag variable\n",
    "isTrain=False # 이미 학습한 모델을 단순히 load만 수행하고 학습 X\n",
    "\n",
    "# set loss func and optimizer\n",
    "optimizer = torch.optim.Adam(model.parameters(), lr=0.005)\n",
    "criterion = nn.NLLLoss(ignore_index=0, reduction='mean')"
   ]
  },
  {
   "cell_type": "code",
   "execution_count": 64,
   "metadata": {},
   "outputs": [],
   "source": [
    "##### Training / Evaluation Parts #######"
   ]
  },
  {
   "cell_type": "code",
   "execution_count": 65,
   "metadata": {},
   "outputs": [],
   "source": [
    "# accuracy\n",
    "def cal_acc(scores, target):\n",
    "    pred = scores.max(-1)[1]\n",
    "    non_pad = target.ne(0)\n",
    "    num_correct = pred.eq(target).masked_select(non_pad).sum().item() \n",
    "    num_non_pad = non_pad.sum().item()\n",
    "    return 100 * (num_correct / num_non_pad)"
   ]
  },
  {
   "cell_type": "markdown",
   "metadata": {},
   "source": [
    "# Training\n",
    "![학습](fig/LM_train.png)"
   ]
  },
  {
   "cell_type": "code",
   "execution_count": 66,
   "metadata": {},
   "outputs": [],
   "source": [
    "# train func.\n",
    "def train():\n",
    "    model.train() # Turn on training mode which enables dropout.\n",
    "    mean_loss = []\n",
    "    mean_acc = []\n",
    "    start_time = time.time()\n",
    "\n",
    "    for batch in corpus.batch_iter(batch_size):\n",
    "        hidden = model.init_hidden(batch_size) # zero vectors for init hidden\n",
    "        target = batch['tgt'] # flattened target \n",
    "        optimizer.zero_grad()\n",
    "        \n",
    "        #model forward가 실행됨\n",
    "        output, hidden = model(batch['src'], hidden) # output = flatten output = [Batch_size * Length, vocab_size]\n",
    "\n",
    "        # output shape = (batch * length, vocab_size)\n",
    "        # target shape = (batch * length)   --> (batch * length, vocab_size) 로 one-hot distribtuion으로 내부적으로 변환되어 비교 수행\n",
    "        loss = criterion(output, target) # compare between vocab_prob and answer_prob(one-hot converted)\n",
    "        loss.backward()\n",
    "        optimizer.step()\n",
    "\n",
    "        mean_loss.append(loss.item())\n",
    "        mean_acc.append(cal_acc(output, target))\n",
    "\n",
    "    total_time = time.time() - start_time\n",
    "    mean_acc = statistics.mean(mean_acc)\n",
    "    mean_loss = statistics.mean(mean_loss)\n",
    "\n",
    "    return mean_loss, total_time, mean_acc"
   ]
  },
  {
   "cell_type": "code",
   "execution_count": 67,
   "metadata": {},
   "outputs": [],
   "source": [
    "# evaluation func.\n",
    "def evaluate():\n",
    "    model.eval() # Turn off dropout\n",
    "    mean_loss = []\n",
    "    mean_acc = []\n",
    "\n",
    "    for batch in corpus.batch_iter(batch_size, isTrain=False):\n",
    "        with torch.no_grad():\n",
    "            hidden = model.init_hidden(batch_size)\n",
    "            target = batch['tgt']\n",
    "            output, hidden = model(batch['src'], hidden)\n",
    "            loss = criterion(output, target)\n",
    "            mean_loss.append(loss.item())\n",
    "            mean_acc.append(cal_acc(output, target))\n",
    "\n",
    "    mean_acc = statistics.mean(mean_acc)\n",
    "    mean_loss = statistics.mean(mean_loss)\n",
    "\n",
    "    return mean_loss, mean_acc"
   ]
  },
  {
   "cell_type": "code",
   "execution_count": 68,
   "metadata": {},
   "outputs": [],
   "source": [
    "if isTrain: # set False if you don't need to train model\n",
    "    start_time = time.time()\n",
    "\n",
    "    for epoch in range(1, max_epoch+1):\n",
    "        loss, epoch_time, accuracy = train()\n",
    "        print('epoch {:4d} | times {:3.3f} |  loss: {:3.3f} | accuracy: {:3.2f}'.format(epoch+1, epoch_time, loss, accuracy))\n",
    "\n",
    "        if epoch % 10 == 0:\n",
    "            loss, accuracy = evaluate()\n",
    "            print('=' * 60)\n",
    "            print('Evaluation | loss: {:3.3f} | accuracy: {:3.2f}'.format(loss, accuracy))\n",
    "            print('=' * 60)\n",
    "\n",
    "    with open('model.pt', 'wb') as f:\n",
    "        print('save model at: ./model.pt')\n",
    "        torch.save(model, f)"
   ]
  },
  {
   "cell_type": "markdown",
   "metadata": {},
   "source": [
    "# 과제1: 문장 확률 계산\n",
    "![문장확률](fig/sent_prob_1.png)\n",
    "![문장확률](fig/sent_prob_2.png)"
   ]
  },
  {
   "cell_type": "code",
   "execution_count": 69,
   "metadata": {},
   "outputs": [],
   "source": [
    "def pred_sent_prob(sent):\n",
    "    model.eval()\n",
    "    sent_prob=0\n",
    "    with torch.no_grad():\n",
    "        # 1. 모델 입력 및 정답 문장에 대한 단어 indexing\n",
    "        corpus=Corpus(sent,device)\n",
    "        idx_src, idx_tgt = corpus.indexing(sent)\n",
    "        \n",
    "        # 2. initial hidden 생성\n",
    "        hidden = model.init_hidden(1)\n",
    "    \n",
    "        # 3. LM의 결과(확률분포) 생성\n",
    "        output, hidden = model(idx_src,hidden)\n",
    "        print(output.shape)\n",
    "        \n",
    "        # 4. 모델 확률분포로부터 정답 단어의 각 index에 대한 Log 확률 값 추출.\n",
    "        for i in range(len(output)):\n",
    "            print(output[i][idx_tgt[i]])\n",
    "            \n",
    "        # 5. log 확률의 합.\n",
    "        for i in range(len(output)):\n",
    "            sent_prob+=output[i][idx_tgt[i]]\n",
    "        # 6. 결과 return (return type: float)\n",
    "        return sent_prob"
   ]
  },
  {
   "cell_type": "code",
   "execution_count": 70,
   "metadata": {},
   "outputs": [
    {
     "name": "stdout",
     "output_type": "stream",
     "text": [
      "load model from: ./model.pt\n",
      "torch.Size([5, 20004])\n",
      "tensor(-2.1424, device='cuda:0')\n",
      "tensor(-9.2958, device='cuda:0')\n",
      "tensor(-21.4679, device='cuda:0')\n",
      "tensor(-2.8360, device='cuda:0')\n",
      "tensor(-6.5152, device='cuda:0')\n",
      "log prob of [the dog bark .]: -42.257\n",
      "\n",
      "torch.Size([5, 20004])\n",
      "tensor(-2.1424, device='cuda:0')\n",
      "tensor(-9.2958, device='cuda:0')\n",
      "tensor(-21.4679, device='cuda:0')\n",
      "tensor(-2.8360, device='cuda:0')\n",
      "tensor(-6.5152, device='cuda:0')\n",
      "log prob of [the cat bark .]: -42.257\n",
      "\n",
      "torch.Size([6, 20004])\n",
      "tensor(-8.1613, device='cuda:0')\n",
      "tensor(-23.8846, device='cuda:0')\n",
      "tensor(-4.5753, device='cuda:0')\n",
      "tensor(-0.4254, device='cuda:0')\n",
      "tensor(-7.9259, device='cuda:0')\n",
      "tensor(-7.4939, device='cuda:0')\n",
      "log prob of [boy am a i .]: -52.466\n",
      "\n",
      "torch.Size([6, 20004])\n",
      "tensor(-2.1424, device='cuda:0')\n",
      "tensor(-6.8701, device='cuda:0')\n",
      "tensor(-3.9096, device='cuda:0')\n",
      "tensor(-12.2394, device='cuda:0')\n",
      "tensor(-19.8135, device='cuda:0')\n",
      "tensor(-0.6636, device='cuda:0')\n",
      "log prob of [i am a boy .]: -45.639\n",
      "\n"
     ]
    }
   ],
   "source": [
    "# load saved model\n",
    "with open('./model.pt', 'rb') as f:\n",
    "    print('load model from: ./model.pt')\n",
    "    model = torch.load(f).to(device)\n",
    "\n",
    "    print('log prob of [the dog bark .]: {:3.3f}\\n'.format(pred_sent_prob([['the', 'dog', 'bark', '.']])))\n",
    "    print('log prob of [the cat bark .]: {:3.3f}\\n'.format(pred_sent_prob([['the', 'cat', 'bark', '.']])))\n",
    "\n",
    "    print('log prob of [boy am a i .]: {:3.3f}\\n'.format(pred_sent_prob([['boy', 'am', 'a', 'i', '.']])))\n",
    "    print('log prob of [i am a boy .]: {:3.3f}\\n'.format(pred_sent_prob([['i', 'am', 'a', 'boy', '.']])))\n"
   ]
  },
  {
   "cell_type": "markdown",
   "metadata": {},
   "source": [
    "# 과제2: 다음 단어 예측\n",
    "![다음단어예측](fig/next_word.png)"
   ]
  },
  {
   "cell_type": "code",
   "execution_count": 99,
   "metadata": {},
   "outputs": [],
   "source": [
    "def pred_next_word(partial_sent, topN=3):\n",
    "    model.eval()\n",
    "    result=[]\n",
    "    with torch.no_grad():\n",
    "        # 1. 모델 입력 및 정답 문장에 대한 단어 indexing\n",
    "        #corpus=Corpus(partial_sent,device)\n",
    "        idx_src, idx_tgt = corpus.indexing(partial_sent)\n",
    "        \n",
    "        # 2. initial hidden 생성\n",
    "        hidden = model.init_hidden(1)\n",
    "        \n",
    "        # 3. LM의 결과(확률분포) 생성\n",
    "        output, hidden = model(idx_src,hidden)\n",
    "        print(output.shape)\n",
    "        \n",
    "        # 4. topN에 해당하는 다음단어의 word index 추출 (Hint: torch.topk() 활용)\n",
    "        val,idx=torch.topk(output[-1],topN)\n",
    "        print(\"word index: \",idx,\"\\n\")\n",
    "      \n",
    "        # 5. word index --> word 로 변환\n",
    "        for (key, val) in (corpus.dictionary.word2idx.items()):\n",
    "            for j in range(len(idx)):\n",
    "                if idx[j] == val:\n",
    "                    result.append(key)\n",
    "                    print(key)\n",
    "                \n",
    "        # 6. topN word list 반환 (return type: list)\n",
    "        return result\n",
    "        "
   ]
  },
  {
   "cell_type": "code",
   "execution_count": 100,
   "metadata": {},
   "outputs": [
    {
     "name": "stdout",
     "output_type": "stream",
     "text": [
      "torch.Size([4, 20004])\n",
      "word index:  tensor([14, 12,  7], device='cuda:0') \n",
      "\n",
      "of\n",
      "was\n",
      "is\n",
      "Top 3 next words for a partial sentence [the next word] is: \n",
      "===> ['of', 'was', 'is']\n"
     ]
    }
   ],
   "source": [
    "partial_sent = [['the', 'next', 'word']]\n",
    "N=3\n",
    "candidates = pred_next_word(partial_sent, topN=N)\n",
    "\n",
    "# print \n",
    "partial_sent = ' '.join(partial_sent[0])\n",
    "print('Top {0} next words for a partial sentence [{1}] is: '.format(N, partial_sent))\n",
    "print('===>', candidates)"
   ]
  },
  {
   "cell_type": "code",
   "execution_count": null,
   "metadata": {},
   "outputs": [],
   "source": []
  },
  {
   "cell_type": "code",
   "execution_count": null,
   "metadata": {},
   "outputs": [],
   "source": []
  },
  {
   "cell_type": "code",
   "execution_count": null,
   "metadata": {},
   "outputs": [],
   "source": []
  }
 ],
 "metadata": {
  "kernelspec": {
   "display_name": "Python 3 (ipykernel)",
   "language": "python",
   "name": "python3"
  },
  "language_info": {
   "codemirror_mode": {
    "name": "ipython",
    "version": 3
   },
   "file_extension": ".py",
   "mimetype": "text/x-python",
   "name": "python",
   "nbconvert_exporter": "python",
   "pygments_lexer": "ipython3",
   "version": "3.8.10"
  },
  "pycharm": {
   "stem_cell": {
    "cell_type": "raw",
    "metadata": {
     "collapsed": false
    },
    "source": []
   }
  }
 },
 "nbformat": 4,
 "nbformat_minor": 2
}

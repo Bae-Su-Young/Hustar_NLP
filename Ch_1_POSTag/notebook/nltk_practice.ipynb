{
 "cells": [
  {
   "cell_type": "markdown",
   "metadata": {},
   "source": [
    "# NLTK Practice"
   ]
  },
  {
   "cell_type": "code",
   "execution_count": 1,
   "metadata": {},
   "outputs": [],
   "source": [
    "import nltk\n",
    "import math\n",
    "from os import listdir\n",
    "from os.path import join\n",
    "from operator import itemgetter\n",
    "from collections import defaultdict"
   ]
  },
  {
   "cell_type": "code",
   "execution_count": 2,
   "metadata": {},
   "outputs": [
    {
     "name": "stderr",
     "output_type": "stream",
     "text": [
      "[nltk_data] Downloading package punkt to /home/piai/nltk_data...\n",
      "[nltk_data]   Unzipping tokenizers/punkt.zip.\n",
      "[nltk_data] Downloading package averaged_perceptron_tagger to\n",
      "[nltk_data]     /home/piai/nltk_data...\n",
      "[nltk_data]   Unzipping taggers/averaged_perceptron_tagger.zip.\n"
     ]
    },
    {
     "data": {
      "text/plain": [
       "True"
      ]
     },
     "execution_count": 2,
     "metadata": {},
     "output_type": "execute_result"
    }
   ],
   "source": [
    "nltk.download('punkt')\n",
    "nltk.download('averaged_perceptron_tagger')"
   ]
  },
  {
   "cell_type": "code",
   "execution_count": 3,
   "metadata": {},
   "outputs": [
    {
     "name": "stdout",
     "output_type": "stream",
     "text": [
      "['./Data/endoc7.txt', './Data/endoc8.txt', './Data/endoc5.txt', './Data/endoc3.txt', './Data/endoc6.txt', './Data/endoc4.txt', './Data/endoc1.txt', './Data/endoc2.txt']\n"
     ]
    }
   ],
   "source": [
    "# get data list\n",
    "data_dir = \"./Data\"\n",
    "files = [join(data_dir, f) for f in listdir(data_dir)]\n",
    "print(files)"
   ]
  },
  {
   "cell_type": "code",
   "execution_count": 11,
   "metadata": {},
   "outputs": [],
   "source": [
    "# nouns for keywords\n",
    "Nouns = ['NN', 'NNS', 'NNP', 'NNPS']"
   ]
  },
  {
   "cell_type": "markdown",
   "metadata": {},
   "source": [
    "## Keyword Extractor"
   ]
  },
  {
   "cell_type": "code",
   "execution_count": 4,
   "metadata": {
    "scrolled": true
   },
   "outputs": [
    {
     "name": "stdout",
     "output_type": "stream",
     "text": [
      "getting frequency\n"
     ]
    }
   ],
   "source": [
    "# get word-freq\n",
    "print('getting frequency')\n",
    "words_freq = defaultdict(int)\n",
    "words_prob = defaultdict(float)#확률이므로 float형"
   ]
  },
  {
   "cell_type": "code",
   "execution_count": 12,
   "metadata": {},
   "outputs": [
    {
     "name": "stdout",
     "output_type": "stream",
     "text": [
      "processing ./Data/endoc7.txt\n",
      "processing ./Data/endoc8.txt\n",
      "processing ./Data/endoc5.txt\n",
      "processing ./Data/endoc3.txt\n",
      "processing ./Data/endoc6.txt\n",
      "processing ./Data/endoc4.txt\n",
      "processing ./Data/endoc1.txt\n",
      "processing ./Data/endoc2.txt\n"
     ]
    }
   ],
   "source": [
    "for intxt in files:\n",
    "    print('processing '+intxt)\n",
    "    infile = open(intxt, \"r\", encoding='utf-8')\n",
    "    text = infile.read()\n",
    "    tokens = nltk.word_tokenize(text)\n",
    "    sent = nltk.pos_tag(tokens)\n",
    "    len_doc = len(tokens)\n",
    "\n",
    "    # if the tag is Noun\n",
    "    for word, tag in sent:\n",
    "        # save the word-count pair in the dictionary\n",
    "        # 명사인지 %인지 품사 확인\n",
    "        if tag in Nouns and word.isalpha:\n",
    "            words_freq[word]+=1\n",
    "            words_prob[word]+=1/len_doc\n",
    "            \n",
    "        # and save the word-word_frequency pair in another dictionary\n",
    "        \n",
    "\n",
    "    # fill"
   ]
  },
  {
   "cell_type": "code",
   "execution_count": 30,
   "metadata": {},
   "outputs": [
    {
     "name": "stdout",
     "output_type": "stream",
     "text": [
      "sorting the keywords\n"
     ]
    }
   ],
   "source": [
    "# sorting\n",
    "print('sorting the keywords')\n",
    "sortedList_freq = sorted(words_freq.items(), key=itemgetter(1), reverse=True)\n",
    "sortedList_prob = sorted(words_prob.items(), key=itemgetter(1), reverse=True)"
   ]
  },
  {
   "cell_type": "code",
   "execution_count": 31,
   "metadata": {},
   "outputs": [
    {
     "name": "stdout",
     "output_type": "stream",
     "text": [
      "('tobacco', 13)\n",
      "('san', 7)\n",
      "('francisco', 7)\n",
      "('products', 7)\n",
      "('voters', 5)\n",
      "('american', 5)\n",
      "('proposition', 4)\n",
      "('city', 4)\n",
      "('reynolds', 4)\n",
      "('association', 4)\n",
      "\n",
      "('US', 0.04147894563008936)\n",
      "('Iran', 0.028081123244929798)\n",
      "('China', 0.02634082488749565)\n",
      "('Russia', 0.02146452100122221)\n",
      "('tobacco', 0.019736842105263157)\n",
      "('people', 0.01906465793037258)\n",
      "('EU', 0.0171606864274571)\n",
      "('Kennedy', 0.014718614718614714)\n",
      "('South', 0.014195441777828933)\n",
      "('North', 0.013937446334055284)\n",
      "\n",
      "US \t -3.182569314697745\n",
      "Iran \t -3.5726576990245054\n",
      "China \t -3.6366352662440917\n",
      "Russia \t -3.8413538928948223\n",
      "tobacco \t -3.925268232178167\n",
      "people \t -3.9599190281166807\n",
      "EU \t -4.065134184122299\n",
      "Kennedy \t -4.2186422788996785\n",
      "South \t -4.254834367468294\n",
      "North \t -4.2731760802405825\n"
     ]
    }
   ],
   "source": [
    "for item in sortedList_freq[:10] :\n",
    "    print(item)\n",
    "print()\n",
    "for item in sortedList_prob[:10] :\n",
    "    print(item)\n",
    "print()\n",
    "for item in sortedList_prob[0:10]:\n",
    "    print (item[0],'\\t', math.log(item[1]))"
   ]
  },
  {
   "cell_type": "markdown",
   "metadata": {},
   "source": [
    "## Document Finder\n",
    "    키워드를 포함하는 문서 찾기"
   ]
  },
  {
   "cell_type": "code",
   "execution_count": 16,
   "metadata": {},
   "outputs": [
    {
     "name": "stdout",
     "output_type": "stream",
     "text": [
      "getting frequency\n"
     ]
    }
   ],
   "source": [
    "print('getting frequency')\n",
    "keywords_per_doc=defaultdict(list)"
   ]
  },
  {
   "cell_type": "code",
   "execution_count": 20,
   "metadata": {},
   "outputs": [
    {
     "name": "stdout",
     "output_type": "stream",
     "text": [
      "processing ./Data/endoc7.txt\n",
      "processing ./Data/endoc8.txt\n",
      "processing ./Data/endoc5.txt\n",
      "processing ./Data/endoc3.txt\n",
      "processing ./Data/endoc6.txt\n",
      "processing ./Data/endoc4.txt\n",
      "processing ./Data/endoc1.txt\n",
      "processing ./Data/endoc2.txt\n"
     ]
    }
   ],
   "source": [
    "for intxt in files:\n",
    "    print('processing '+ intxt)\n",
    "    words_freq=defaultdict(int)#문서마다 키워드를 저장하기 위함\n",
    "    infile = open(intxt, \"r\", encoding='utf-8')\n",
    "    text = infile.read()\n",
    "    tokens = nltk.word_tokenize(text)\n",
    "    sent = nltk.pos_tag(tokens)\n",
    "\n",
    "    # if the tag is Noun and consists of only alphabets\n",
    "    # save the word-count pair in the dictionary\n",
    "    for word, tag in sent:\n",
    "        if tag in Nouns and word.isalpha():\n",
    "            words_freq[word.lower()]+=1\n",
    "    # fill\n",
    "\n",
    "    # save only 10 keywords\n",
    "    sortedList = sorted(words_freq.items(), key=itemgetter(1), reverse=True)\n",
    "    keywords_per_doc[intxt] = [x[0] for x in sortedList[0:10]]"
   ]
  },
  {
   "cell_type": "code",
   "execution_count": 21,
   "metadata": {},
   "outputs": [],
   "source": [
    "dic={}\n",
    "for intxt in files:\n",
    "    keywords = keywords_per_doc[intxt]\n",
    "    for keyword in keywords:\n",
    "        if keyword in dic:\n",
    "            dic[keyword] += (\", \" + intxt)\n",
    "        else:\n",
    "            dic[keyword] = intxt"
   ]
  },
  {
   "cell_type": "code",
   "execution_count": 22,
   "metadata": {},
   "outputs": [
    {
     "name": "stdout",
     "output_type": "stream",
     "text": [
      "type keyword (q:to exit)\n",
      "us\n",
      "./Data/endoc8.txt, ./Data/endoc5.txt, ./Data/endoc4.txt, ./Data/endoc1.txt\n",
      "type keyword (q:to exit)\n",
      "korea\n",
      "./Data/endoc4.txt\n",
      "type keyword (q:to exit)\n",
      "people\n",
      "./Data/endoc8.txt, ./Data/endoc3.txt, ./Data/endoc6.txt\n",
      "type keyword (q:to exit)\n",
      "russia\n",
      "./Data/endoc4.txt\n",
      "type keyword (q:to exit)\n",
      "q\n"
     ]
    }
   ],
   "source": [
    "# test\n",
    "while True:\n",
    "    print('type keyword (q:to exit)')\n",
    "    query = input().strip()\n",
    "    #print(query)\n",
    "    if query == 'q':\n",
    "        break\n",
    "    if query in dic:\n",
    "        print(dic[query])\n",
    "    else:\n",
    "        print('no such document')"
   ]
  },
  {
   "cell_type": "code",
   "execution_count": null,
   "metadata": {},
   "outputs": [],
   "source": []
  }
 ],
 "metadata": {
  "kernelspec": {
   "display_name": "Python 3",
   "language": "python",
   "name": "python3"
  },
  "language_info": {
   "codemirror_mode": {
    "name": "ipython",
    "version": 3
   },
   "file_extension": ".py",
   "mimetype": "text/x-python",
   "name": "python",
   "nbconvert_exporter": "python",
   "pygments_lexer": "ipython3",
   "version": "3.8.5"
  }
 },
 "nbformat": 4,
 "nbformat_minor": 2
}

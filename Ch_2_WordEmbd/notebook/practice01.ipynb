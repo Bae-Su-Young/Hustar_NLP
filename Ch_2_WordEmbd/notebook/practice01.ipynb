{
 "cells": [
  {
   "cell_type": "code",
   "execution_count": 1,
   "metadata": {},
   "outputs": [],
   "source": [
    "import torch\n",
    "import torch.nn"
   ]
  },
  {
   "cell_type": "code",
   "execution_count": 2,
   "metadata": {},
   "outputs": [],
   "source": [
    "vocab = {\n",
    "    '나': 0,\n",
    "    '는': 1,\n",
    "    '김밥': 2,\n",
    "    '과': 3,\n",
    "    '라면': 4,\n",
    "    '이': 5,\n",
    "    '좋다': 6\n",
    "}"
   ]
  },
  {
   "cell_type": "code",
   "execution_count": 3,
   "metadata": {},
   "outputs": [
    {
     "name": "stdout",
     "output_type": "stream",
     "text": [
      "Embedding(7, 10)\n",
      "Parameter containing:\n",
      "tensor([[ 0.8255,  0.1371, -0.0986,  0.4993, -0.2734,  2.3330, -1.3574,  1.0892,\n",
      "          0.6537, -2.0155],\n",
      "        [-0.5497,  0.7832, -0.7299, -0.1728,  0.6307, -1.3166, -0.3288,  0.5738,\n",
      "          0.7838, -0.7975],\n",
      "        [ 0.4045, -0.3912, -0.3746,  0.0188,  0.0469, -0.0848, -0.8266,  0.4567,\n",
      "          0.5474,  1.4800],\n",
      "        [-1.9969, -0.9921,  0.8379, -0.2754,  0.5166, -0.3838, -0.9941, -0.2567,\n",
      "          1.1535,  0.3611],\n",
      "        [-0.6225, -1.0859,  1.2012,  1.5256,  1.3607, -0.7187,  0.2482,  0.0042,\n",
      "         -0.0353,  0.5840],\n",
      "        [ 0.8322, -0.1028,  1.3203, -0.2176, -0.7774, -0.2918, -0.0775, -0.2857,\n",
      "          1.3952, -1.4729],\n",
      "        [-1.0791,  1.9437,  0.1480,  1.0292,  0.7533,  1.7348,  2.0790, -2.0058,\n",
      "          1.0209,  0.5637]], requires_grad=True)\n"
     ]
    }
   ],
   "source": [
    "dim=10\n",
    "emb_mtx = torch.nn.Embedding(len(vocab), dim)\n",
    "\n",
    "print(emb_mtx)\n",
    "print(emb_mtx.weight)"
   ]
  },
  {
   "cell_type": "code",
   "execution_count": 10,
   "metadata": {},
   "outputs": [
    {
     "name": "stdout",
     "output_type": "stream",
     "text": [
      "Tensor: tensor([4])\n",
      "Shape: torch.Size([1])\n",
      "\n",
      "Tensor:\n",
      "tensor([[-0.6225, -1.0859,  1.2012,  1.5256,  1.3607, -0.7187,  0.2482,  0.0042,\n",
      "         -0.0353,  0.5840]], grad_fn=<EmbeddingBackward>)\n",
      "Shape: torch.Size([1, 10])\n"
     ]
    }
   ],
   "source": [
    "## Practice 1 ##\n",
    "\n",
    "# print word embedding of '라면'\n",
    "idx = torch.tensor([vocab['라면']],dtype=torch.long) # practice: make index tensor for '라면'\n",
    "print(\"Tensor: {}\\nShape: {}\\n\".format(idx, idx.size()))\n",
    "\n",
    "emb = emb_mtx(idx) # make word embedding for '라면'\n",
    "print(\"Tensor:\\n{}\\nShape: {}\".format(emb, emb.size()))"
   ]
  },
  {
   "cell_type": "code",
   "execution_count": 17,
   "metadata": {},
   "outputs": [
    {
     "name": "stdout",
     "output_type": "stream",
     "text": [
      "Tensor: tensor([2, 4, 6])\n",
      "Shape: torch.Size([3])\n",
      "\n",
      "Tensor:\n",
      "tensor([[ 0.4045, -0.3912, -0.3746,  0.0188,  0.0469, -0.0848, -0.8266,  0.4567,\n",
      "          0.5474,  1.4800],\n",
      "        [-0.6225, -1.0859,  1.2012,  1.5256,  1.3607, -0.7187,  0.2482,  0.0042,\n",
      "         -0.0353,  0.5840],\n",
      "        [-1.0791,  1.9437,  0.1480,  1.0292,  0.7533,  1.7348,  2.0790, -2.0058,\n",
      "          1.0209,  0.5637]], grad_fn=<EmbeddingBackward>)\n",
      "Shape: torch.Size([3, 10])\n"
     ]
    }
   ],
   "source": [
    "## Practice 2 ##\n",
    "\n",
    "# print word embeddings for a given sentence: \"김밥 라면 좋다\"\n",
    "sent = ['김밥', '라면', '좋다']\n",
    "idxs = []\n",
    "for word in sent:\n",
    "    idx =vocab[word]# practice: convert word into index\n",
    "    idxs.append(idx) # append idx to idxs\n",
    "\n",
    "idxs = torch.tensor(idxs,dtype=torch.long)# practice: convert index list to tensor\n",
    "print(\"Tensor: {}\\nShape: {}\\n\".format(idxs, idxs.size()))\n",
    "\n",
    "emb =emb_mtx(idxs) # practice: convert idxs into word embedding\n",
    "print(\"Tensor:\\n{}\\nShape: {}\".format(emb, emb.size()))"
   ]
  },
  {
   "cell_type": "code",
   "execution_count": 21,
   "metadata": {},
   "outputs": [
    {
     "name": "stdout",
     "output_type": "stream",
     "text": [
      "Tensor:\n",
      "tensor([[2, 4, 6],\n",
      "        [0, 1, 4]])\n",
      "Shape: torch.Size([2, 3])\n",
      "\n",
      "Tensor:\n",
      "tensor([[[ 0.4045, -0.3912, -0.3746,  0.0188,  0.0469, -0.0848, -0.8266,\n",
      "           0.4567,  0.5474,  1.4800],\n",
      "         [-0.6225, -1.0859,  1.2012,  1.5256,  1.3607, -0.7187,  0.2482,\n",
      "           0.0042, -0.0353,  0.5840],\n",
      "         [-1.0791,  1.9437,  0.1480,  1.0292,  0.7533,  1.7348,  2.0790,\n",
      "          -2.0058,  1.0209,  0.5637]],\n",
      "\n",
      "        [[ 0.8255,  0.1371, -0.0986,  0.4993, -0.2734,  2.3330, -1.3574,\n",
      "           1.0892,  0.6537, -2.0155],\n",
      "         [-0.5497,  0.7832, -0.7299, -0.1728,  0.6307, -1.3166, -0.3288,\n",
      "           0.5738,  0.7838, -0.7975],\n",
      "         [-0.6225, -1.0859,  1.2012,  1.5256,  1.3607, -0.7187,  0.2482,\n",
      "           0.0042, -0.0353,  0.5840]]], grad_fn=<EmbeddingBackward>)\n",
      "Shape: torch.Size([2, 3, 10])\n"
     ]
    }
   ],
   "source": [
    "## Practice 03 ##\n",
    "# construct batch level word embeddings: [\"김밥 라면 좋다\", \"나 는 라면\"]\n",
    "\n",
    "sents = [['김밥', '라면', '좋다'],\n",
    "         ['나', '는', '라면']]\n",
    "\n",
    "batch_idxs = []\n",
    "for sent in sents:\n",
    "    idxs = []\n",
    "    for word in sent:\n",
    "        idx = vocab[word]# practice: convert word into index\n",
    "        idxs.append(idx)\n",
    "    batch_idxs.append(idxs)\n",
    "\n",
    "batch_idxs = torch.tensor(batch_idxs,dtype=torch.long) # practice: convert batch idx to tensor\n",
    "print(\"Tensor:\\n{}\\nShape: {}\".format(batch_idxs, batch_idxs.size()))\n",
    "print('')\n",
    "\n",
    "emb = emb_mtx(batch_idxs)# practice: convert idxs into word embedding\n",
    "print(\"Tensor:\\n{}\\nShape: {}\".format(emb, emb.size())) #2개 3*10"
   ]
  },
  {
   "cell_type": "code",
   "execution_count": null,
   "metadata": {},
   "outputs": [],
   "source": []
  }
 ],
 "metadata": {
  "kernelspec": {
   "display_name": "Python 3 (ipykernel)",
   "language": "python",
   "name": "python3"
  },
  "language_info": {
   "codemirror_mode": {
    "name": "ipython",
    "version": 3
   },
   "file_extension": ".py",
   "mimetype": "text/x-python",
   "name": "python",
   "nbconvert_exporter": "python",
   "pygments_lexer": "ipython3",
   "version": "3.8.10"
  }
 },
 "nbformat": 4,
 "nbformat_minor": 4
}
